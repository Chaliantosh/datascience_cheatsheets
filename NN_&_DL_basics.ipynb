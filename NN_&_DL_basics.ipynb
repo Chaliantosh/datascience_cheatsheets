{
  "nbformat": 4,
  "nbformat_minor": 0,
  "metadata": {
    "colab": {
      "name": "NN & DL basics.ipynb",
      "provenance": [],
      "collapsed_sections": [],
      "authorship_tag": "ABX9TyPydAPV1tsBaEvFhTOdbwzM",
      "include_colab_link": true
    },
    "kernelspec": {
      "name": "python3",
      "display_name": "Python 3"
    },
    "language_info": {
      "name": "python"
    }
  },
  "cells": [
    {
      "cell_type": "markdown",
      "metadata": {
        "id": "view-in-github",
        "colab_type": "text"
      },
      "source": [
        "<a href=\"https://colab.research.google.com/github/Chaliantosh/datascience_cheatsheets/blob/main/NN_%26_DL_basics.ipynb\" target=\"_parent\"><img src=\"https://colab.research.google.com/assets/colab-badge.svg\" alt=\"Open In Colab\"/></a>"
      ]
    },
    {
      "cell_type": "code",
      "execution_count": 7,
      "metadata": {
        "colab": {
          "base_uri": "https://localhost:8080/"
        },
        "id": "kQIAhRFicesp",
        "outputId": "5f802602-0dc4-48d6-db41-540b5c33d4c4"
      },
      "outputs": [
        {
          "output_type": "stream",
          "name": "stdout",
          "text": [
            "matrix a dimension (2, 2)\n",
            "matrix b dimension (2, 3)\n",
            "matrix c dimension (2, 2)\n"
          ]
        }
      ],
      "source": [
        "import numpy as np\n",
        "a = np.array([[1,2],[3,4]])\n",
        "b = np.array([[5,6,7],[8,9,10]])\n",
        "c = np.array([[5,6],[8,9]])\n",
        "print('matrix a dimension', a.shape)\n",
        "print('matrix b dimension', b.shape)\n",
        "print('matrix c dimension', c.shape)"
      ]
    },
    {
      "cell_type": "code",
      "source": [
        "#cross product\n",
        "c = np.dot(a,b)\n",
        "print('dot product of a & b:', c)\n",
        "print('matrix c dimension', c.shape)"
      ],
      "metadata": {
        "colab": {
          "base_uri": "https://localhost:8080/"
        },
        "id": "dIHoEi6kc3y-",
        "outputId": "20a44cae-fcb1-46f5-f48f-da9cd71c03f4"
      },
      "execution_count": 6,
      "outputs": [
        {
          "output_type": "stream",
          "name": "stdout",
          "text": [
            "dot product of a & b: [[21 24 27]\n",
            " [47 54 61]]\n",
            "matrix c dimension (2, 3)\n"
          ]
        }
      ]
    },
    {
      "cell_type": "code",
      "source": [
        "#element wise multiplication\n",
        "d = np.multiply(a,c)\n",
        "print('element wise product of a & b:', d)\n",
        "print('matrix c dimension', d.shape)"
      ],
      "metadata": {
        "colab": {
          "base_uri": "https://localhost:8080/"
        },
        "id": "Yt9u53-Nd-g2",
        "outputId": "f7fc6570-4d70-48f4-9478-c4e453993117"
      },
      "execution_count": 10,
      "outputs": [
        {
          "output_type": "stream",
          "name": "stdout",
          "text": [
            "element wise product of a & b: [[ 5 12]\n",
            " [24 36]]\n",
            "matrix c dimension (2, 2)\n"
          ]
        }
      ]
    },
    {
      "cell_type": "code",
      "source": [
        "#Broadcasting 1: Addition of a matrix and a row vector\n",
        "a = np.array([[10, 10, 10], [20, 20, 20], [30, 30, 30]])\n",
        "b = np.array([1, 2, 3])\n",
        "c = a*b\n",
        "print(c)"
      ],
      "metadata": {
        "colab": {
          "base_uri": "https://localhost:8080/"
        },
        "id": "5mUxdrA5ftUh",
        "outputId": "d198f768-524d-4458-d24b-23ae1f669bab"
      },
      "execution_count": 12,
      "outputs": [
        {
          "output_type": "stream",
          "name": "stdout",
          "text": [
            "[[10 20 30]\n",
            " [20 40 60]\n",
            " [30 60 90]]\n"
          ]
        }
      ]
    },
    {
      "cell_type": "code",
      "source": [
        "#Broadcasting 2: Addition of a matrix and a scalar\n",
        "a = np.array([[10, 10, 10], [20, 20, 20], [30, 30, 30]])\n",
        "b = 1\n",
        "c = a + b\n",
        "print(c)"
      ],
      "metadata": {
        "colab": {
          "base_uri": "https://localhost:8080/"
        },
        "id": "PW2FHTKqgHHy",
        "outputId": "cd1acf56-eeea-4e6b-cd84-32b57baf46a4"
      },
      "execution_count": 13,
      "outputs": [
        {
          "output_type": "stream",
          "name": "stdout",
          "text": [
            "[[11 11 11]\n",
            " [21 21 21]\n",
            " [31 31 31]]\n"
          ]
        }
      ]
    },
    {
      "cell_type": "code",
      "source": [
        "#Broadcasting 3: element wise function call\n",
        "def exp(x, n):\n",
        "  return x**n\n",
        "\n",
        "a = np.array([[1, 2, 3], [4, 5, 6], [7, 8, 9]])\n",
        "print(exp(a, 2))"
      ],
      "metadata": {
        "colab": {
          "base_uri": "https://localhost:8080/"
        },
        "id": "LyIktBapgmLQ",
        "outputId": "2124620f-a2ed-458b-8e24-87bcb91d8e61"
      },
      "execution_count": 15,
      "outputs": [
        {
          "output_type": "stream",
          "name": "stdout",
          "text": [
            "[[ 1  4  9]\n",
            " [16 25 36]\n",
            " [49 64 81]]\n"
          ]
        }
      ]
    },
    {
      "cell_type": "code",
      "source": [
        "#calories from carbs, proteins, fats in 100g of different foods:\n",
        "#            Apples    Beef      Eggs    Potatoes\n",
        "#    carb    56.0       0.0      4.4       68.0\n",
        "#proteins     1.2     104.0     52.0        8.0\n",
        "#     Fat     1.8     135.0     99.0        0.9\n",
        "import numpy as np\n",
        "A = np.array([[56.0,   0.0,  4.4, 68.0],\n",
        "              [1.2, 104.0, 52.0,  8.0],\n",
        "              [1.8, 135.0, 99.0,  0.9]])\n",
        "print(A)"
      ],
      "metadata": {
        "colab": {
          "base_uri": "https://localhost:8080/"
        },
        "id": "SaX6XAIViUjk",
        "outputId": "d9cc2cbd-7c53-496b-a61e-cbb26746449a"
      },
      "execution_count": 21,
      "outputs": [
        {
          "output_type": "stream",
          "name": "stdout",
          "text": [
            "[[ 56.    0.    4.4  68. ]\n",
            " [  1.2 104.   52.    8. ]\n",
            " [  1.8 135.   99.    0.9]]\n"
          ]
        }
      ]
    },
    {
      "cell_type": "code",
      "source": [
        "cal = A.sum(axis=0)\n",
        "print(cal)\n",
        "percentage = 100*A/cal.reshape(1,4)\n",
        "print(percentage)"
      ],
      "metadata": {
        "colab": {
          "base_uri": "https://localhost:8080/"
        },
        "id": "eglVi640kXms",
        "outputId": "1af12275-b5a4-458b-fd96-2b3490fc9b4e"
      },
      "execution_count": 24,
      "outputs": [
        {
          "output_type": "stream",
          "name": "stdout",
          "text": [
            "[ 59.  239.  155.4  76.9]\n",
            "[[94.91525424  0.          2.83140283 88.42652796]\n",
            " [ 2.03389831 43.51464435 33.46203346 10.40312094]\n",
            " [ 3.05084746 56.48535565 63.70656371  1.17035111]]\n"
          ]
        }
      ]
    },
    {
      "cell_type": "code",
      "source": [
        ""
      ],
      "metadata": {
        "id": "QjkPREyz16bX"
      },
      "execution_count": null,
      "outputs": []
    }
  ]
}