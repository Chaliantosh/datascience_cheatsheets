{
  "nbformat": 4,
  "nbformat_minor": 0,
  "metadata": {
    "colab": {
      "name": "Timeseries.ipynb",
      "provenance": [],
      "authorship_tag": "ABX9TyMVU/TbR/nIDzlchyiRwdXL",
      "include_colab_link": true
    },
    "kernelspec": {
      "name": "python3",
      "display_name": "Python 3"
    },
    "language_info": {
      "name": "python"
    }
  },
  "cells": [
    {
      "cell_type": "markdown",
      "metadata": {
        "id": "view-in-github",
        "colab_type": "text"
      },
      "source": [
        "<a href=\"https://colab.research.google.com/github/Chaliantosh/datascience_cheatsheets/blob/main/Timeseries.ipynb\" target=\"_parent\"><img src=\"https://colab.research.google.com/assets/colab-badge.svg\" alt=\"Open In Colab\"/></a>"
      ]
    },
    {
      "cell_type": "markdown",
      "source": [
        "**Downsample Scenario**\n",
        "Customers visiting a super market at different timesteps."
      ],
      "metadata": {
        "id": "oWoFsOACSmiA"
      }
    },
    {
      "cell_type": "code",
      "source": [
        "import numpy as np\n",
        "import pandas as pd\n",
        "#pattern every minute\n",
        "customerArrival = pd.date_range('18/09/2017 8:00', periods=100, freq='T')\n",
        "custArrivalTs = pd.Series(np.random.randint(0, 100, len(customerArrival)), index=customerArrival)\n",
        "custArrivalTs.head(10)"
      ],
      "metadata": {
        "colab": {
          "base_uri": "https://localhost:8080/"
        },
        "id": "qb80I8tzS1Hi",
        "outputId": "251c3924-9c4c-4fc8-f411-b323b4ca0edd"
      },
      "execution_count": null,
      "outputs": [
        {
          "output_type": "execute_result",
          "data": {
            "text/plain": [
              "2017-09-18 08:00:00    79\n",
              "2017-09-18 08:01:00    54\n",
              "2017-09-18 08:02:00    43\n",
              "2017-09-18 08:03:00    44\n",
              "2017-09-18 08:04:00     6\n",
              "2017-09-18 08:05:00    77\n",
              "2017-09-18 08:06:00    90\n",
              "2017-09-18 08:07:00    31\n",
              "2017-09-18 08:08:00    25\n",
              "2017-09-18 08:09:00     4\n",
              "Freq: T, dtype: int64"
            ]
          },
          "metadata": {},
          "execution_count": 41
        }
      ]
    },
    {
      "cell_type": "code",
      "source": [
        "#mean customer incidence every 10s\n",
        "custArrivalTs.resample('10min').mean().head"
      ],
      "metadata": {
        "colab": {
          "base_uri": "https://localhost:8080/"
        },
        "id": "SEfW-FgmTzAR",
        "outputId": "2138bc18-d1f1-48a8-a30a-06001b52dde0"
      },
      "execution_count": null,
      "outputs": [
        {
          "output_type": "execute_result",
          "data": {
            "text/plain": [
              "<bound method NDFrame.head of 2017-09-18 08:00:00    45.3\n",
              "2017-09-18 08:10:00    48.0\n",
              "2017-09-18 08:20:00    60.1\n",
              "2017-09-18 08:30:00    44.8\n",
              "2017-09-18 08:40:00    57.3\n",
              "2017-09-18 08:50:00    56.9\n",
              "2017-09-18 09:00:00    40.8\n",
              "2017-09-18 09:10:00    54.6\n",
              "2017-09-18 09:20:00    54.4\n",
              "2017-09-18 09:30:00    43.7\n",
              "Freq: 10T, dtype: float64>"
            ]
          },
          "metadata": {},
          "execution_count": 42
        }
      ]
    },
    {
      "cell_type": "code",
      "source": [
        "#use custom function\n",
        "custArrivalTs.resample('10min').sum().head()"
      ],
      "metadata": {
        "colab": {
          "base_uri": "https://localhost:8080/"
        },
        "id": "Bmj_Ur4rUpoM",
        "outputId": "1ed43dd2-3926-4c64-8260-1097158fb751"
      },
      "execution_count": null,
      "outputs": [
        {
          "output_type": "execute_result",
          "data": {
            "text/plain": [
              "2017-09-18 08:00:00    453\n",
              "2017-09-18 08:10:00    480\n",
              "2017-09-18 08:20:00    601\n",
              "2017-09-18 08:30:00    448\n",
              "2017-09-18 08:40:00    573\n",
              "Freq: 10T, dtype: int64"
            ]
          },
          "metadata": {},
          "execution_count": 43
        }
      ]
    },
    {
      "cell_type": "code",
      "source": [
        "#maximum incidence in a given interval\n",
        "custArrivalTs.resample('1h').max().head()"
      ],
      "metadata": {
        "colab": {
          "base_uri": "https://localhost:8080/"
        },
        "id": "MlJncUKmWMw4",
        "outputId": "f9115d42-8668-4f07-f052-a879a30825eb"
      },
      "execution_count": null,
      "outputs": [
        {
          "output_type": "execute_result",
          "data": {
            "text/plain": [
              "2017-09-18 08:00:00    99\n",
              "2017-09-18 09:00:00    97\n",
              "Freq: H, dtype: int64"
            ]
          },
          "metadata": {},
          "execution_count": 44
        }
      ]
    },
    {
      "cell_type": "code",
      "source": [
        "#write own custom function\n",
        "import random\n",
        "#use custom function\n",
        "custArrivalTs.resample('1h').apply(lambda m: random.choice(m)).head()"
      ],
      "metadata": {
        "colab": {
          "base_uri": "https://localhost:8080/"
        },
        "id": "YZOrD2iRWlUE",
        "outputId": "ab74d012-640d-4ee2-b55a-58513fd2b902"
      },
      "execution_count": null,
      "outputs": [
        {
          "output_type": "execute_result",
          "data": {
            "text/plain": [
              "2017-09-18 08:00:00    54\n",
              "2017-09-18 09:00:00    38\n",
              "Freq: H, dtype: int64"
            ]
          },
          "metadata": {},
          "execution_count": 45
        }
      ]
    },
    {
      "cell_type": "code",
      "source": [
        "custArrivalTs.resample('1h').apply('ohlc').head()"
      ],
      "metadata": {
        "colab": {
          "base_uri": "https://localhost:8080/",
          "height": 112
        },
        "id": "Bo23ylC_XN6O",
        "outputId": "82f15e8d-8746-49f3-d71e-825121dbaa9f"
      },
      "execution_count": null,
      "outputs": [
        {
          "output_type": "execute_result",
          "data": {
            "text/plain": [
              "                     open  high  low  close\n",
              "2017-09-18 08:00:00    79    99    4     24\n",
              "2017-09-18 09:00:00    60    97    1     22"
            ],
            "text/html": [
              "\n",
              "  <div id=\"df-545367b5-c1b9-4509-b12a-7021134e0f23\">\n",
              "    <div class=\"colab-df-container\">\n",
              "      <div>\n",
              "<style scoped>\n",
              "    .dataframe tbody tr th:only-of-type {\n",
              "        vertical-align: middle;\n",
              "    }\n",
              "\n",
              "    .dataframe tbody tr th {\n",
              "        vertical-align: top;\n",
              "    }\n",
              "\n",
              "    .dataframe thead th {\n",
              "        text-align: right;\n",
              "    }\n",
              "</style>\n",
              "<table border=\"1\" class=\"dataframe\">\n",
              "  <thead>\n",
              "    <tr style=\"text-align: right;\">\n",
              "      <th></th>\n",
              "      <th>open</th>\n",
              "      <th>high</th>\n",
              "      <th>low</th>\n",
              "      <th>close</th>\n",
              "    </tr>\n",
              "  </thead>\n",
              "  <tbody>\n",
              "    <tr>\n",
              "      <th>2017-09-18 08:00:00</th>\n",
              "      <td>79</td>\n",
              "      <td>99</td>\n",
              "      <td>4</td>\n",
              "      <td>24</td>\n",
              "    </tr>\n",
              "    <tr>\n",
              "      <th>2017-09-18 09:00:00</th>\n",
              "      <td>60</td>\n",
              "      <td>97</td>\n",
              "      <td>1</td>\n",
              "      <td>22</td>\n",
              "    </tr>\n",
              "  </tbody>\n",
              "</table>\n",
              "</div>\n",
              "      <button class=\"colab-df-convert\" onclick=\"convertToInteractive('df-545367b5-c1b9-4509-b12a-7021134e0f23')\"\n",
              "              title=\"Convert this dataframe to an interactive table.\"\n",
              "              style=\"display:none;\">\n",
              "        \n",
              "  <svg xmlns=\"http://www.w3.org/2000/svg\" height=\"24px\"viewBox=\"0 0 24 24\"\n",
              "       width=\"24px\">\n",
              "    <path d=\"M0 0h24v24H0V0z\" fill=\"none\"/>\n",
              "    <path d=\"M18.56 5.44l.94 2.06.94-2.06 2.06-.94-2.06-.94-.94-2.06-.94 2.06-2.06.94zm-11 1L8.5 8.5l.94-2.06 2.06-.94-2.06-.94L8.5 2.5l-.94 2.06-2.06.94zm10 10l.94 2.06.94-2.06 2.06-.94-2.06-.94-.94-2.06-.94 2.06-2.06.94z\"/><path d=\"M17.41 7.96l-1.37-1.37c-.4-.4-.92-.59-1.43-.59-.52 0-1.04.2-1.43.59L10.3 9.45l-7.72 7.72c-.78.78-.78 2.05 0 2.83L4 21.41c.39.39.9.59 1.41.59.51 0 1.02-.2 1.41-.59l7.78-7.78 2.81-2.81c.8-.78.8-2.07 0-2.86zM5.41 20L4 18.59l7.72-7.72 1.47 1.35L5.41 20z\"/>\n",
              "  </svg>\n",
              "      </button>\n",
              "      \n",
              "  <style>\n",
              "    .colab-df-container {\n",
              "      display:flex;\n",
              "      flex-wrap:wrap;\n",
              "      gap: 12px;\n",
              "    }\n",
              "\n",
              "    .colab-df-convert {\n",
              "      background-color: #E8F0FE;\n",
              "      border: none;\n",
              "      border-radius: 50%;\n",
              "      cursor: pointer;\n",
              "      display: none;\n",
              "      fill: #1967D2;\n",
              "      height: 32px;\n",
              "      padding: 0 0 0 0;\n",
              "      width: 32px;\n",
              "    }\n",
              "\n",
              "    .colab-df-convert:hover {\n",
              "      background-color: #E2EBFA;\n",
              "      box-shadow: 0px 1px 2px rgba(60, 64, 67, 0.3), 0px 1px 3px 1px rgba(60, 64, 67, 0.15);\n",
              "      fill: #174EA6;\n",
              "    }\n",
              "\n",
              "    [theme=dark] .colab-df-convert {\n",
              "      background-color: #3B4455;\n",
              "      fill: #D2E3FC;\n",
              "    }\n",
              "\n",
              "    [theme=dark] .colab-df-convert:hover {\n",
              "      background-color: #434B5C;\n",
              "      box-shadow: 0px 1px 3px 1px rgba(0, 0, 0, 0.15);\n",
              "      filter: drop-shadow(0px 1px 2px rgba(0, 0, 0, 0.3));\n",
              "      fill: #FFFFFF;\n",
              "    }\n",
              "  </style>\n",
              "\n",
              "      <script>\n",
              "        const buttonEl =\n",
              "          document.querySelector('#df-545367b5-c1b9-4509-b12a-7021134e0f23 button.colab-df-convert');\n",
              "        buttonEl.style.display =\n",
              "          google.colab.kernel.accessAllowed ? 'block' : 'none';\n",
              "\n",
              "        async function convertToInteractive(key) {\n",
              "          const element = document.querySelector('#df-545367b5-c1b9-4509-b12a-7021134e0f23');\n",
              "          const dataTable =\n",
              "            await google.colab.kernel.invokeFunction('convertToInteractive',\n",
              "                                                     [key], {});\n",
              "          if (!dataTable) return;\n",
              "\n",
              "          const docLinkHtml = 'Like what you see? Visit the ' +\n",
              "            '<a target=\"_blank\" href=https://colab.research.google.com/notebooks/data_table.ipynb>data table notebook</a>'\n",
              "            + ' to learn more about interactive tables.';\n",
              "          element.innerHTML = '';\n",
              "          dataTable['output_type'] = 'display_data';\n",
              "          await google.colab.output.renderOutput(dataTable, element);\n",
              "          const docLink = document.createElement('div');\n",
              "          docLink.innerHTML = docLinkHtml;\n",
              "          element.appendChild(docLink);\n",
              "        }\n",
              "      </script>\n",
              "    </div>\n",
              "  </div>\n",
              "  "
            ]
          },
          "metadata": {},
          "execution_count": 46
        }
      ]
    },
    {
      "cell_type": "markdown",
      "source": [
        "**Upsampling**"
      ],
      "metadata": {
        "id": "itZwREDicFrd"
      }
    },
    {
      "cell_type": "code",
      "source": [
        "sampleRng = pd.date_range('18/09/2017 8:00', periods=10, freq='H')\n",
        "sampleTs = pd.Series(np.random.randint(0, 100, len(sampleRng)), index=sampleRng)\n",
        "sampleTs"
      ],
      "metadata": {
        "colab": {
          "base_uri": "https://localhost:8080/"
        },
        "id": "dOHkGs9Vb6ma",
        "outputId": "3dd0f301-b8d9-49b6-9495-88c796231478"
      },
      "execution_count": null,
      "outputs": [
        {
          "output_type": "execute_result",
          "data": {
            "text/plain": [
              "2017-09-18 08:00:00    98\n",
              "2017-09-18 09:00:00     5\n",
              "2017-09-18 10:00:00    45\n",
              "2017-09-18 11:00:00     0\n",
              "2017-09-18 12:00:00     1\n",
              "2017-09-18 13:00:00    43\n",
              "2017-09-18 14:00:00    75\n",
              "2017-09-18 15:00:00    23\n",
              "2017-09-18 16:00:00    12\n",
              "2017-09-18 17:00:00    17\n",
              "Freq: H, dtype: int64"
            ]
          },
          "metadata": {},
          "execution_count": 47
        }
      ]
    },
    {
      "cell_type": "code",
      "source": [
        "sampleTs.resample('15min').mean().head(10)"
      ],
      "metadata": {
        "colab": {
          "base_uri": "https://localhost:8080/"
        },
        "id": "XI_lDSv3cn60",
        "outputId": "6a9fc393-025c-483f-cc29-900c2f79c4ba"
      },
      "execution_count": null,
      "outputs": [
        {
          "output_type": "execute_result",
          "data": {
            "text/plain": [
              "2017-09-18 08:00:00    98.0\n",
              "2017-09-18 08:15:00     NaN\n",
              "2017-09-18 08:30:00     NaN\n",
              "2017-09-18 08:45:00     NaN\n",
              "2017-09-18 09:00:00     5.0\n",
              "2017-09-18 09:15:00     NaN\n",
              "2017-09-18 09:30:00     NaN\n",
              "2017-09-18 09:45:00     NaN\n",
              "2017-09-18 10:00:00    45.0\n",
              "2017-09-18 10:15:00     NaN\n",
              "Freq: 15T, dtype: float64"
            ]
          },
          "metadata": {},
          "execution_count": 48
        }
      ]
    },
    {
      "cell_type": "code",
      "source": [
        "#NaN can be filled with forward and backward filling\n",
        "sampleTS = sampleTs.resample('15min')"
      ],
      "metadata": {
        "id": "_M8pvPC4c4JU"
      },
      "execution_count": null,
      "outputs": []
    },
    {
      "cell_type": "code",
      "source": [
        "#forward filling\n",
        "sampleTS.ffill().head()"
      ],
      "metadata": {
        "colab": {
          "base_uri": "https://localhost:8080/"
        },
        "id": "jrBJ1NAwdCLe",
        "outputId": "17a6b26b-fd1f-43a3-96ce-9294c97f3fc7"
      },
      "execution_count": null,
      "outputs": [
        {
          "output_type": "execute_result",
          "data": {
            "text/plain": [
              "2017-09-18 08:00:00    98\n",
              "2017-09-18 08:15:00    98\n",
              "2017-09-18 08:30:00    98\n",
              "2017-09-18 08:45:00    98\n",
              "2017-09-18 09:00:00     5\n",
              "Freq: 15T, dtype: int64"
            ]
          },
          "metadata": {},
          "execution_count": 50
        }
      ]
    },
    {
      "cell_type": "code",
      "source": [
        "sampleTs.resample('15min', fill_method='ffill',limit=2)"
      ],
      "metadata": {
        "colab": {
          "base_uri": "https://localhost:8080/",
          "height": 165
        },
        "id": "QZKxfnhEeBdg",
        "outputId": "47c8bf2a-5190-40b2-d716-b574719f9b2b"
      },
      "execution_count": null,
      "outputs": [
        {
          "output_type": "error",
          "ename": "TypeError",
          "evalue": "ignored",
          "traceback": [
            "\u001b[0;31m---------------------------------------------------------------------------\u001b[0m",
            "\u001b[0;31mTypeError\u001b[0m                                 Traceback (most recent call last)",
            "\u001b[0;32m<ipython-input-51-29629d9facda>\u001b[0m in \u001b[0;36m<module>\u001b[0;34m()\u001b[0m\n\u001b[0;32m----> 1\u001b[0;31m \u001b[0msampleTs\u001b[0m\u001b[0;34m.\u001b[0m\u001b[0mresample\u001b[0m\u001b[0;34m(\u001b[0m\u001b[0;34m'15min'\u001b[0m\u001b[0;34m,\u001b[0m \u001b[0mfill_method\u001b[0m\u001b[0;34m=\u001b[0m\u001b[0;34m'ffill'\u001b[0m\u001b[0;34m,\u001b[0m\u001b[0mlimit\u001b[0m\u001b[0;34m=\u001b[0m\u001b[0;36m2\u001b[0m\u001b[0;34m)\u001b[0m\u001b[0;34m\u001b[0m\u001b[0;34m\u001b[0m\u001b[0m\n\u001b[0m",
            "\u001b[0;31mTypeError\u001b[0m: resample() got an unexpected keyword argument 'fill_method'"
          ]
        }
      ]
    },
    {
      "cell_type": "code",
      "source": [
        "#backward filling\n",
        "sampleTS.bfill().head()"
      ],
      "metadata": {
        "colab": {
          "base_uri": "https://localhost:8080/"
        },
        "id": "vnn871zrdZ_U",
        "outputId": "581b292e-e7f0-41a6-ce55-dd9c602079bd"
      },
      "execution_count": null,
      "outputs": [
        {
          "output_type": "execute_result",
          "data": {
            "text/plain": [
              "2017-09-18 08:00:00    98\n",
              "2017-09-18 08:15:00     5\n",
              "2017-09-18 08:30:00     5\n",
              "2017-09-18 08:45:00     5\n",
              "2017-09-18 09:00:00     5\n",
              "Freq: 15T, dtype: int64"
            ]
          },
          "metadata": {},
          "execution_count": 52
        }
      ]
    }
  ]
}