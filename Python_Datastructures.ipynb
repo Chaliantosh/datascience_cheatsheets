{
 "cells": [
  {
   "cell_type": "code",
   "execution_count": 2,
   "id": "12093adc",
   "metadata": {},
   "outputs": [
    {
     "data": {
      "text/plain": [
       "'Hello Python'"
      ]
     },
     "execution_count": 2,
     "metadata": {},
     "output_type": "execute_result"
    }
   ],
   "source": [
    "#string Indexing (Forward & Backward)\n",
    "str1=\"Hello Python\"\n",
    "str1"
   ]
  },
  {
   "cell_type": "code",
   "execution_count": 3,
   "id": "1d6d2ae7",
   "metadata": {},
   "outputs": [
    {
     "data": {
      "text/plain": [
       "'H'"
      ]
     },
     "execution_count": 3,
     "metadata": {},
     "output_type": "execute_result"
    }
   ],
   "source": [
    "str1[0] # First character in string \"str1\""
   ]
  },
  {
   "cell_type": "code",
   "execution_count": 5,
   "id": "8fbf0422",
   "metadata": {},
   "outputs": [
    {
     "data": {
      "text/plain": [
       "'n'"
      ]
     },
     "execution_count": 5,
     "metadata": {},
     "output_type": "execute_result"
    }
   ],
   "source": [
    "str1[len(str1)-1] # last character in string str1"
   ]
  },
  {
   "cell_type": "code",
   "execution_count": 7,
   "id": "87310835",
   "metadata": {},
   "outputs": [
    {
     "data": {
      "text/plain": [
       "'n'"
      ]
     },
     "execution_count": 7,
     "metadata": {},
     "output_type": "execute_result"
    }
   ],
   "source": [
    "str1[-1] # last character in string str1"
   ]
  },
  {
   "cell_type": "code",
   "execution_count": 8,
   "id": "20c04683",
   "metadata": {},
   "outputs": [
    {
     "data": {
      "text/plain": [
       "'P'"
      ]
     },
     "execution_count": 8,
     "metadata": {},
     "output_type": "execute_result"
    }
   ],
   "source": [
    "str1[6] #fetch seventh element of string str1"
   ]
  },
  {
   "cell_type": "code",
   "execution_count": 12,
   "id": "d3b181a2",
   "metadata": {},
   "outputs": [
    {
     "data": {
      "text/plain": [
       "'Hello'"
      ]
     },
     "execution_count": 12,
     "metadata": {},
     "output_type": "execute_result"
    }
   ],
   "source": [
    "#String slicing\n",
    "str1[0:5] # fetch elements from 0 to 5 index"
   ]
  },
  {
   "cell_type": "code",
   "execution_count": 13,
   "id": "c276bebe",
   "metadata": {},
   "outputs": [
    {
     "data": {
      "text/plain": [
       "'Python'"
      ]
     },
     "execution_count": 13,
     "metadata": {},
     "output_type": "execute_result"
    }
   ],
   "source": [
    "str1[6:12] # fetch elements from 6 to 12 index"
   ]
  },
  {
   "cell_type": "code",
   "execution_count": 15,
   "id": "2e8d7e83",
   "metadata": {},
   "outputs": [
    {
     "data": {
      "text/plain": [
       "'thon'"
      ]
     },
     "execution_count": 15,
     "metadata": {},
     "output_type": "execute_result"
    }
   ],
   "source": [
    "str1[-4:] # retrieve last four elements of the string"
   ]
  },
  {
   "cell_type": "code",
   "execution_count": 16,
   "id": "74879df9",
   "metadata": {},
   "outputs": [
    {
     "data": {
      "text/plain": [
       "'Python'"
      ]
     },
     "execution_count": 16,
     "metadata": {},
     "output_type": "execute_result"
    }
   ],
   "source": [
    "str1[-6:] # retrieve last six elements of the string"
   ]
  },
  {
   "cell_type": "code",
   "execution_count": 17,
   "id": "69c5c9cc",
   "metadata": {},
   "outputs": [
    {
     "data": {
      "text/plain": [
       "'Hell'"
      ]
     },
     "execution_count": 17,
     "metadata": {},
     "output_type": "execute_result"
    }
   ],
   "source": [
    "str1[0:4] # retrieve first four elements of the string"
   ]
  },
  {
   "cell_type": "code",
   "execution_count": 19,
   "id": "ff2c0d43",
   "metadata": {},
   "outputs": [
    {
     "data": {
      "text/plain": [
       "'Hello '"
      ]
     },
     "execution_count": 19,
     "metadata": {},
     "output_type": "execute_result"
    }
   ],
   "source": [
    "str1[0:6] # retrieve first six elements of the string"
   ]
  },
  {
   "cell_type": "code",
   "execution_count": 21,
   "id": "6be35b52",
   "metadata": {},
   "outputs": [
    {
     "ename": "TypeError",
     "evalue": "'str' object does not support item assignment",
     "output_type": "error",
     "traceback": [
      "\u001b[1;31m---------------------------------------------------------------------------\u001b[0m",
      "\u001b[1;31mTypeError\u001b[0m                                 Traceback (most recent call last)",
      "\u001b[1;32m<ipython-input-21-3eea5db63844>\u001b[0m in \u001b[0;36m<module>\u001b[1;34m\u001b[0m\n\u001b[0;32m      1\u001b[0m \u001b[1;31m#Update and Delete string\u001b[0m\u001b[1;33m\u001b[0m\u001b[1;33m\u001b[0m\u001b[1;33m\u001b[0m\u001b[0m\n\u001b[1;32m----> 2\u001b[1;33m \u001b[0mstr1\u001b[0m\u001b[1;33m[\u001b[0m\u001b[1;36m0\u001b[0m\u001b[1;33m:\u001b[0m\u001b[1;36m5\u001b[0m\u001b[1;33m]\u001b[0m\u001b[1;33m=\u001b[0m\u001b[1;34m'Holaa'\u001b[0m \u001b[1;31m#since strings are immutable\u001b[0m\u001b[1;33m\u001b[0m\u001b[1;33m\u001b[0m\u001b[0m\n\u001b[0m",
      "\u001b[1;31mTypeError\u001b[0m: 'str' object does not support item assignment"
     ]
    }
   ],
   "source": [
    "#Update and Delete string\n",
    "str1[0:5]='Holaa' #since strings are immutable"
   ]
  },
  {
   "cell_type": "code",
   "execution_count": 25,
   "id": "b780ea12",
   "metadata": {},
   "outputs": [
    {
     "ename": "NameError",
     "evalue": "name 'str1' is not defined",
     "output_type": "error",
     "traceback": [
      "\u001b[1;31m---------------------------------------------------------------------------\u001b[0m",
      "\u001b[1;31mNameError\u001b[0m                                 Traceback (most recent call last)",
      "\u001b[1;32m<ipython-input-25-31630ad2ed4a>\u001b[0m in \u001b[0;36m<module>\u001b[1;34m\u001b[0m\n\u001b[1;32m----> 1\u001b[1;33m \u001b[1;32mdel\u001b[0m \u001b[0mstr1\u001b[0m \u001b[1;31m# delete a string\u001b[0m\u001b[1;33m\u001b[0m\u001b[1;33m\u001b[0m\u001b[0m\n\u001b[0m\u001b[0;32m      2\u001b[0m \u001b[0mprint\u001b[0m\u001b[1;33m(\u001b[0m\u001b[0mstr1\u001b[0m\u001b[1;33m)\u001b[0m\u001b[1;33m\u001b[0m\u001b[1;33m\u001b[0m\u001b[0m\n",
      "\u001b[1;31mNameError\u001b[0m: name 'str1' is not defined"
     ]
    }
   ],
   "source": [
    "del str1 # delete a string\n",
    "print(str1)"
   ]
  },
  {
   "cell_type": "code",
   "execution_count": 26,
   "id": "8ed273b6",
   "metadata": {},
   "outputs": [
    {
     "name": "stdout",
     "output_type": "stream",
     "text": [
      "HelloSantosh\n"
     ]
    }
   ],
   "source": [
    "#string concatenation\n",
    "s1 = \"Hello\"\n",
    "s2 = \"Santosh\"\n",
    "s3 = s1 + s2\n",
    "print(s3)"
   ]
  },
  {
   "cell_type": "code",
   "execution_count": 27,
   "id": "0574d81d",
   "metadata": {},
   "outputs": [
    {
     "name": "stdout",
     "output_type": "stream",
     "text": [
      "Hello Santosh\n"
     ]
    }
   ],
   "source": [
    "s1 = \"Hello\"\n",
    "s2 = \"Santosh\"\n",
    "s3 = s1 + \" \" + s2\n",
    "print(s3)"
   ]
  },
  {
   "cell_type": "code",
   "execution_count": 28,
   "id": "55962fdd",
   "metadata": {},
   "outputs": [
    {
     "name": "stdout",
     "output_type": "stream",
     "text": [
      "H\n",
      "e\n",
      "l\n",
      "l\n",
      "o\n",
      " \n",
      "E\n",
      "v\n",
      "e\n",
      "r\n",
      "y\n",
      "o\n",
      "n\n",
      "e\n"
     ]
    }
   ],
   "source": [
    "#Iterating through a string\n",
    "mystr1 = \"Hello Everyone\"\n",
    "for i in mystr1:\n",
    "    print(i)"
   ]
  },
  {
   "cell_type": "code",
   "execution_count": 29,
   "id": "698466b0",
   "metadata": {},
   "outputs": [
    {
     "name": "stdout",
     "output_type": "stream",
     "text": [
      "(0, 'H')\n",
      "(1, 'e')\n",
      "(2, 'l')\n",
      "(3, 'l')\n",
      "(4, 'o')\n",
      "(5, ' ')\n",
      "(6, 'E')\n",
      "(7, 'v')\n",
      "(8, 'e')\n",
      "(9, 'r')\n",
      "(10, 'y')\n",
      "(11, 'o')\n",
      "(12, 'n')\n",
      "(13, 'e')\n"
     ]
    }
   ],
   "source": [
    "for i in enumerate(mystr1):\n",
    "    print(i)"
   ]
  },
  {
   "cell_type": "code",
   "execution_count": 31,
   "id": "4d40cdb7",
   "metadata": {},
   "outputs": [
    {
     "data": {
      "text/plain": [
       "[(0, 'H'),\n",
       " (1, 'e'),\n",
       " (2, 'l'),\n",
       " (3, 'l'),\n",
       " (4, 'o'),\n",
       " (5, ' '),\n",
       " (6, 'E'),\n",
       " (7, 'v'),\n",
       " (8, 'e'),\n",
       " (9, 'r'),\n",
       " (10, 'y'),\n",
       " (11, 'o'),\n",
       " (12, 'n'),\n",
       " (13, 'e')]"
      ]
     },
     "execution_count": 31,
     "metadata": {},
     "output_type": "execute_result"
    }
   ],
   "source": [
    "list(enumerate(mystr1)) # Enumeerate method adds a counter to an iteratable and returns a lisst"
   ]
  },
  {
   "cell_type": "code",
   "execution_count": 32,
   "id": "489c92e2",
   "metadata": {},
   "outputs": [
    {
     "name": "stdout",
     "output_type": "stream",
     "text": [
      "True\n",
      "True\n",
      "False\n"
     ]
    }
   ],
   "source": [
    "#string membership\n",
    "mystr1 = \"Hello Everyone\"\n",
    "print('Hello' in mystr1) #check whether substring 'Hello' is available in mystr1\n",
    "print('Everyone' in mystr1) #check whether substring 'Everyone' is available in mystr1\n",
    "print('Hi' in mystr1) #check whether substring 'Hi' is available in mystr1"
   ]
  },
  {
   "cell_type": "code",
   "execution_count": 33,
   "id": "d430788b",
   "metadata": {},
   "outputs": [
    {
     "data": {
      "text/plain": [
       "'     Hello Everyone    '"
      ]
     },
     "execution_count": 33,
     "metadata": {},
     "output_type": "execute_result"
    }
   ],
   "source": [
    "#String functions\n",
    "mystr2 = \"     Hello Everyone    \"\n",
    "mystr2"
   ]
  },
  {
   "cell_type": "code",
   "execution_count": 35,
   "id": "b6451df2",
   "metadata": {},
   "outputs": [
    {
     "data": {
      "text/plain": [
       "'Hello Everyone'"
      ]
     },
     "execution_count": 35,
     "metadata": {},
     "output_type": "execute_result"
    }
   ],
   "source": [
    "mystr2.strip() # removes the white spaces in beginning & end"
   ]
  },
  {
   "cell_type": "code",
   "execution_count": 36,
   "id": "5602094f",
   "metadata": {},
   "outputs": [
    {
     "data": {
      "text/plain": [
       "'Hello Everyone    '"
      ]
     },
     "execution_count": 36,
     "metadata": {},
     "output_type": "execute_result"
    }
   ],
   "source": [
    "mystr2.lstrip() # removes the white spaces in beginning"
   ]
  },
  {
   "cell_type": "code",
   "execution_count": 38,
   "id": "29b2ceda",
   "metadata": {},
   "outputs": [
    {
     "data": {
      "text/plain": [
       "'     Hello Everyone'"
      ]
     },
     "execution_count": 38,
     "metadata": {},
     "output_type": "execute_result"
    }
   ],
   "source": [
    "mystr2.rstrip() # removes the white spaces in end"
   ]
  },
  {
   "cell_type": "code",
   "execution_count": 39,
   "id": "33d24036",
   "metadata": {},
   "outputs": [
    {
     "data": {
      "text/plain": [
       "'*******Hello Everyone*********All the Best*******'"
      ]
     },
     "execution_count": 39,
     "metadata": {},
     "output_type": "execute_result"
    }
   ],
   "source": [
    "mystr2=\"*******Hello Everyone*********All the Best*******\"\n",
    "mystr2"
   ]
  },
  {
   "cell_type": "code",
   "execution_count": 43,
   "id": "8cef7fce",
   "metadata": {},
   "outputs": [
    {
     "data": {
      "text/plain": [
       "'Hello Everyone*********All the Best'"
      ]
     },
     "execution_count": 43,
     "metadata": {},
     "output_type": "execute_result"
    }
   ],
   "source": [
    "mystr2.strip('*') # removes the '*' in beginning & end"
   ]
  },
  {
   "cell_type": "code",
   "execution_count": 44,
   "id": "8700a84f",
   "metadata": {},
   "outputs": [
    {
     "data": {
      "text/plain": [
       "'Hello Everyone*********All the Best*******'"
      ]
     },
     "execution_count": 44,
     "metadata": {},
     "output_type": "execute_result"
    }
   ],
   "source": [
    "mystr2.lstrip('*') # removes the '*' in beginning"
   ]
  },
  {
   "cell_type": "code",
   "execution_count": 45,
   "id": "6016da0e",
   "metadata": {},
   "outputs": [
    {
     "data": {
      "text/plain": [
       "'*******Hello Everyone*********All the Best'"
      ]
     },
     "execution_count": 45,
     "metadata": {},
     "output_type": "execute_result"
    }
   ],
   "source": [
    "mystr2.rstrip('*') # removes the '*' in end"
   ]
  },
  {
   "cell_type": "code",
   "execution_count": 47,
   "id": "4bff8d07",
   "metadata": {},
   "outputs": [
    {
     "data": {
      "text/plain": [
       "'    Hello   Everyone  '"
      ]
     },
     "execution_count": 47,
     "metadata": {},
     "output_type": "execute_result"
    }
   ],
   "source": [
    "mystr2=\"    Hello   Everyone  \"\n",
    "mystr2"
   ]
  },
  {
   "cell_type": "code",
   "execution_count": 48,
   "id": "ceab5d71",
   "metadata": {},
   "outputs": [
    {
     "data": {
      "text/plain": [
       "'    hello   everyone  '"
      ]
     },
     "execution_count": 48,
     "metadata": {},
     "output_type": "execute_result"
    }
   ],
   "source": [
    "mystr2.lower() # return whole string in lower case"
   ]
  },
  {
   "cell_type": "code",
   "execution_count": 50,
   "id": "2318f89f",
   "metadata": {},
   "outputs": [
    {
     "data": {
      "text/plain": [
       "'    HELLO   EVERYONE  '"
      ]
     },
     "execution_count": 50,
     "metadata": {},
     "output_type": "execute_result"
    }
   ],
   "source": [
    "mystr2.upper() # return whole string in upper case"
   ]
  },
  {
   "cell_type": "code",
   "execution_count": 51,
   "id": "399dd3ef",
   "metadata": {},
   "outputs": [
    {
     "data": {
      "text/plain": [
       "'    Hollo   Everyone  '"
      ]
     },
     "execution_count": 51,
     "metadata": {},
     "output_type": "execute_result"
    }
   ],
   "source": [
    "mystr2.replace(\"He\",\"Ho\") # replace substring \"He\" with \"Ho\""
   ]
  },
  {
   "cell_type": "code",
   "execution_count": 52,
   "id": "ee3de2a1",
   "metadata": {},
   "outputs": [
    {
     "data": {
      "text/plain": [
       "'HelloEveryone'"
      ]
     },
     "execution_count": 52,
     "metadata": {},
     "output_type": "execute_result"
    }
   ],
   "source": [
    "mystr2.replace(\" \",\"\") # remove all whitespaces"
   ]
  },
  {
   "cell_type": "code",
   "execution_count": 53,
   "id": "47c5463b",
   "metadata": {},
   "outputs": [],
   "source": [
    "mystr5 = \"one two Three one two two three\""
   ]
  },
  {
   "cell_type": "code",
   "execution_count": 58,
   "id": "ace8a397",
   "metadata": {},
   "outputs": [
    {
     "data": {
      "text/plain": [
       "2"
      ]
     },
     "execution_count": 58,
     "metadata": {},
     "output_type": "execute_result"
    }
   ],
   "source": [
    "mystr5.count(\"one\") #count number of times substring \"one\" occured in mystr5"
   ]
  },
  {
   "cell_type": "code",
   "execution_count": 59,
   "id": "a62ed2b8",
   "metadata": {},
   "outputs": [
    {
     "data": {
      "text/plain": [
       "3"
      ]
     },
     "execution_count": 59,
     "metadata": {},
     "output_type": "execute_result"
    }
   ],
   "source": [
    "mystr5.count(\"two\") #count number of times substring \"two\" occured in mystr5"
   ]
  },
  {
   "cell_type": "code",
   "execution_count": 60,
   "id": "15ecc960",
   "metadata": {},
   "outputs": [
    {
     "data": {
      "text/plain": [
       "True"
      ]
     },
     "execution_count": 60,
     "metadata": {},
     "output_type": "execute_result"
    }
   ],
   "source": [
    "mystr5.startswith(\"one\") #returns boolean value True if it starts with \"one\""
   ]
  },
  {
   "cell_type": "code",
   "execution_count": 61,
   "id": "6816f242",
   "metadata": {},
   "outputs": [
    {
     "data": {
      "text/plain": [
       "False"
      ]
     },
     "execution_count": 61,
     "metadata": {},
     "output_type": "execute_result"
    }
   ],
   "source": [
    "mystr5.endswith(\"Three\") #returns boolean value False if it starts with \"Three\""
   ]
  },
  {
   "cell_type": "code",
   "execution_count": 62,
   "id": "091a5e41",
   "metadata": {},
   "outputs": [
    {
     "name": "stdout",
     "output_type": "stream",
     "text": [
      "Cost of item1, item2 and item3 are 40, 55 and 77\n"
     ]
    }
   ],
   "source": [
    "#combining string and numbers with format method\n",
    "item1 = 40\n",
    "item2 = 55\n",
    "item3 = 77\n",
    "\n",
    "res=\"Cost of item1, item2 and item3 are {}, {} and {}\"\n",
    "\n",
    "print(res.format(item1,item2,item3))"
   ]
  },
  {
   "cell_type": "code",
   "execution_count": 64,
   "id": "1ccc7984",
   "metadata": {},
   "outputs": [
    {
     "name": "stdout",
     "output_type": "stream",
     "text": [
      "False\n",
      "True\n",
      "True\n",
      "True\n"
     ]
    }
   ],
   "source": [
    "mystr6 = '123456789'\n",
    "print(mystr6.isalpha()) #returns True if all characters are ((a to z) or (A to Z))\n",
    "print(mystr6.isalnum()) #returns True if all characters are ((a to z) or (A to Z) or (0 to 9))\n",
    "print(mystr6.isdecimal()) #returns True of all characters are (0 to 9)\n",
    "print(mystr6.isnumeric()) #returns True if alll characters are (0 to 9)"
   ]
  },
  {
   "cell_type": "code",
   "execution_count": 65,
   "id": "4a76bc7e",
   "metadata": {},
   "outputs": [
    {
     "name": "stdout",
     "output_type": "stream",
     "text": [
      "True\n",
      "True\n",
      "False\n",
      "False\n"
     ]
    }
   ],
   "source": [
    "mystr6 = 'abcde'\n",
    "print(mystr6.isalpha()) #returns True if all characters are ((a to z) or (A to Z))\n",
    "print(mystr6.isalnum()) #returns True if all characters are ((a to z) or (A to Z) or (0 to 9))\n",
    "print(mystr6.isdecimal()) #returns True of all characters are (0 to 9)\n",
    "print(mystr6.isnumeric()) #returns True if alll characters are (0 to 9)"
   ]
  },
  {
   "cell_type": "code",
   "execution_count": 66,
   "id": "b8086fa3",
   "metadata": {},
   "outputs": [
    {
     "name": "stdout",
     "output_type": "stream",
     "text": [
      "False\n",
      "True\n",
      "False\n",
      "False\n"
     ]
    }
   ],
   "source": [
    "mystr6 = 'abc12309'\n",
    "print(mystr6.isalpha()) #returns True if all characters are ((a to z) or (A to Z))\n",
    "print(mystr6.isalnum()) #returns True if all characters are ((a to z) or (A to Z) or (0 to 9))\n",
    "print(mystr6.isdecimal()) #returns True of all characters are (0 to 9)\n",
    "print(mystr6.isnumeric()) #returns True if alll characters are (0 to 9)"
   ]
  },
  {
   "cell_type": "code",
   "execution_count": 68,
   "id": "6b919277",
   "metadata": {},
   "outputs": [
    {
     "name": "stdout",
     "output_type": "stream",
     "text": [
      "True\n",
      "False\n"
     ]
    }
   ],
   "source": [
    "mystr7 = 'ABCDEF'\n",
    "print(mystr7.isupper()) #returns True if all characters are (A to Z)\n",
    "print(mystr7.islower()) #returns True if all characters are (a to z)"
   ]
  },
  {
   "cell_type": "code",
   "execution_count": 69,
   "id": "278d1c4b",
   "metadata": {},
   "outputs": [
    {
     "name": "stdout",
     "output_type": "stream",
     "text": [
      "False\n",
      "True\n"
     ]
    }
   ],
   "source": [
    "mystr8 = 'abcdef'\n",
    "print(mystr8.isupper()) #returns True if all characters are (A to Z)\n",
    "print(mystr8.islower()) #returns True if all characters are (a to z)"
   ]
  },
  {
   "cell_type": "code",
   "execution_count": 70,
   "id": "b0059129",
   "metadata": {},
   "outputs": [
    {
     "ename": "SyntaxError",
     "evalue": "invalid syntax (<ipython-input-70-ef9afeb177ce>, line 2)",
     "output_type": "error",
     "traceback": [
      "\u001b[1;36m  File \u001b[1;32m\"<ipython-input-70-ef9afeb177ce>\"\u001b[1;36m, line \u001b[1;32m2\u001b[0m\n\u001b[1;33m    mystr = \"My favourite TV series is \"Game of Thrones\"\"\u001b[0m\n\u001b[1;37m                                        ^\u001b[0m\n\u001b[1;31mSyntaxError\u001b[0m\u001b[1;31m:\u001b[0m invalid syntax\n"
     ]
    }
   ],
   "source": [
    "#using escape character\n",
    "mystr = \"My favourite TV series is \"Game of Thrones\"\""
   ]
  },
  {
   "cell_type": "code",
   "execution_count": 73,
   "id": "c241a90c",
   "metadata": {},
   "outputs": [
    {
     "name": "stdout",
     "output_type": "stream",
     "text": [
      "My favourite TV series is \"Game of Thrones\"\n"
     ]
    }
   ],
   "source": [
    "mystr = \"My favourite TV series is \\\"Game of Thrones\\\"\"\n",
    "print(mystr)"
   ]
  }
 ],
 "metadata": {
  "kernelspec": {
   "display_name": "Python 3",
   "language": "python",
   "name": "python3"
  },
  "language_info": {
   "codemirror_mode": {
    "name": "ipython",
    "version": 3
   },
   "file_extension": ".py",
   "mimetype": "text/x-python",
   "name": "python",
   "nbconvert_exporter": "python",
   "pygments_lexer": "ipython3",
   "version": "3.8.8"
  }
 },
 "nbformat": 4,
 "nbformat_minor": 5
}
