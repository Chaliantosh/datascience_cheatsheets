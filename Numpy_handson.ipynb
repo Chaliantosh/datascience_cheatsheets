{
 "cells": [
  {
   "cell_type": "code",
   "execution_count": 4,
   "id": "bc6ff128",
   "metadata": {},
   "outputs": [],
   "source": [
    "import numpy as np #numpy is used for array imputation"
   ]
  },
  {
   "cell_type": "code",
   "execution_count": 8,
   "id": "82ce7359",
   "metadata": {},
   "outputs": [
    {
     "data": {
      "text/plain": [
       "array([1, 2, 3])"
      ]
     },
     "execution_count": 8,
     "metadata": {},
     "output_type": "execute_result"
    }
   ],
   "source": [
    "#creating an array\n",
    "arr=np.array([1,2,3])\n",
    "arr"
   ]
  },
  {
   "cell_type": "code",
   "execution_count": 9,
   "id": "b4691fe9",
   "metadata": {},
   "outputs": [
    {
     "data": {
      "text/plain": [
       "array([1, 4, 9])"
      ]
     },
     "execution_count": 9,
     "metadata": {},
     "output_type": "execute_result"
    }
   ],
   "source": [
    "#multiplying the array\n",
    "arr*arr"
   ]
  },
  {
   "cell_type": "code",
   "execution_count": 11,
   "id": "675b56d1",
   "metadata": {},
   "outputs": [
    {
     "name": "stdout",
     "output_type": "stream",
     "text": [
      "Wall time: 11 ms\n",
      "Compiler : 1.4 s\n"
     ]
    },
    {
     "data": {
      "text/plain": [
       "array([0.00685364, 0.32139908, 0.33247152, ..., 0.03192234, 0.18841501,\n",
       "       0.48273082])"
      ]
     },
     "execution_count": 11,
     "metadata": {},
     "output_type": "execute_result"
    }
   ],
   "source": [
    "v1=np.random.rand(1000000)\n",
    "v2=np.random.rand(1000000)\n",
    "%time v1*v2"
   ]
  },
  {
   "cell_type": "markdown",
   "id": "f09cb579",
   "metadata": {},
   "source": [
    "observations: numpy is very fast it computed million random array multiplication in 11ms."
   ]
  },
  {
   "cell_type": "code",
   "execution_count": 13,
   "id": "3836178b",
   "metadata": {},
   "outputs": [
    {
     "data": {
      "text/plain": [
       "14"
      ]
     },
     "execution_count": 13,
     "metadata": {},
     "output_type": "execute_result"
    }
   ],
   "source": [
    "#dot product of an array\n",
    "np.dot(arr, arr)"
   ]
  },
  {
   "cell_type": "code",
   "execution_count": 18,
   "id": "4b891773",
   "metadata": {},
   "outputs": [
    {
     "data": {
      "text/plain": [
       "array([[1, 2, 3],\n",
       "       [4, 5, 6],\n",
       "       [7, 8, 9]])"
      ]
     },
     "execution_count": 18,
     "metadata": {},
     "output_type": "execute_result"
    }
   ],
   "source": [
    "#creating 3*3 matrix\n",
    "mat = np.array([[1,2,3], [4,5,6], [7,8,9]])\n",
    "mat"
   ]
  },
  {
   "cell_type": "code",
   "execution_count": 20,
   "id": "26f4b652",
   "metadata": {},
   "outputs": [
    {
     "data": {
      "text/plain": [
       "array([ 0,  1,  2,  3,  4,  5,  6,  7,  8,  9, 10, 11])"
      ]
     },
     "execution_count": 20,
     "metadata": {},
     "output_type": "execute_result"
    }
   ],
   "source": [
    "#using arange method to create an array\n",
    "v=np.arange(0,12)\n",
    "v"
   ]
  },
  {
   "cell_type": "code",
   "execution_count": 21,
   "id": "a5719cc2",
   "metadata": {},
   "outputs": [
    {
     "data": {
      "text/plain": [
       "array([[ 0,  1,  2],\n",
       "       [ 3,  4,  5],\n",
       "       [ 6,  7,  8],\n",
       "       [ 9, 10, 11]])"
      ]
     },
     "execution_count": 21,
     "metadata": {},
     "output_type": "execute_result"
    }
   ],
   "source": [
    "#using reshape method to create rows & columns\n",
    "v.reshape(4,3)"
   ]
  },
  {
   "cell_type": "code",
   "execution_count": 25,
   "id": "51206d5c",
   "metadata": {},
   "outputs": [
    {
     "data": {
      "text/plain": [
       "array([[ 0,  1,  2],\n",
       "       [ 3,  4,  5],\n",
       "       [ 6,  7,  8],\n",
       "       [ 9, 10, 11]])"
      ]
     },
     "execution_count": 25,
     "metadata": {},
     "output_type": "execute_result"
    }
   ],
   "source": [
    "#combining arange and reshape methods\n",
    "v=np.arange(0,12).reshape(4,3)\n",
    "v"
   ]
  },
  {
   "cell_type": "code",
   "execution_count": 24,
   "id": "bfddc9d4",
   "metadata": {},
   "outputs": [
    {
     "data": {
      "text/plain": [
       "(4, 3)"
      ]
     },
     "execution_count": 24,
     "metadata": {},
     "output_type": "execute_result"
    }
   ],
   "source": [
    "#display rows and columns of an array\n",
    "v.shape"
   ]
  },
  {
   "cell_type": "code",
   "execution_count": 26,
   "id": "f4bd9df8",
   "metadata": {},
   "outputs": [
    {
     "data": {
      "text/plain": [
       "array([[ 0,  1,  2],\n",
       "       [ 3,  4, 17],\n",
       "       [ 6,  7,  8],\n",
       "       [ 9, 10, 11]])"
      ]
     },
     "execution_count": 26,
     "metadata": {},
     "output_type": "execute_result"
    }
   ],
   "source": [
    "#changing the array value\n",
    "v[1,2] = 17\n",
    "v"
   ]
  },
  {
   "cell_type": "code",
   "execution_count": 28,
   "id": "244ce427",
   "metadata": {},
   "outputs": [
    {
     "data": {
      "text/plain": [
       "array([[ 0,  3,  6,  9],\n",
       "       [ 1,  4,  7, 10],\n",
       "       [ 2, 17,  8, 11]])"
      ]
     },
     "execution_count": 28,
     "metadata": {},
     "output_type": "execute_result"
    }
   ],
   "source": [
    "#transpose of a matrix\n",
    "v.transpose()"
   ]
  },
  {
   "cell_type": "markdown",
   "id": "26bbb5d5",
   "metadata": {},
   "source": [
    "# Slicing: to select subsets of data"
   ]
  },
  {
   "cell_type": "code",
   "execution_count": 31,
   "id": "a93f8d0a",
   "metadata": {},
   "outputs": [
    {
     "data": {
      "text/plain": [
       "array([3, 4])"
      ]
     },
     "execution_count": 31,
     "metadata": {},
     "output_type": "execute_result"
    }
   ],
   "source": [
    "v=np.arange(1,6)\n",
    "v[2:4]"
   ]
  },
  {
   "cell_type": "code",
   "execution_count": 33,
   "id": "6149d058",
   "metadata": {},
   "outputs": [
    {
     "data": {
      "text/plain": [
       "array([[ 0,  1,  2,  3],\n",
       "       [ 4,  5,  6,  7],\n",
       "       [ 8,  9, 10, 11]])"
      ]
     },
     "execution_count": 33,
     "metadata": {},
     "output_type": "execute_result"
    }
   ],
   "source": [
    "arr=np.arange(12).reshape(3,4)\n",
    "arr"
   ]
  },
  {
   "cell_type": "code",
   "execution_count": 34,
   "id": "c3164d77",
   "metadata": {},
   "outputs": [
    {
     "data": {
      "text/plain": [
       "array([0, 1, 2, 3])"
      ]
     },
     "execution_count": 34,
     "metadata": {},
     "output_type": "execute_result"
    }
   ],
   "source": [
    "#slice out first row\n",
    "arr[0]"
   ]
  },
  {
   "cell_type": "code",
   "execution_count": 37,
   "id": "23464048",
   "metadata": {},
   "outputs": [
    {
     "data": {
      "text/plain": [
       "5"
      ]
     },
     "execution_count": 37,
     "metadata": {},
     "output_type": "execute_result"
    }
   ],
   "source": [
    "#slice out second row and second column\n",
    "arr[1,1]"
   ]
  },
  {
   "cell_type": "code",
   "execution_count": 40,
   "id": "a7ea22a0",
   "metadata": {},
   "outputs": [
    {
     "data": {
      "text/plain": [
       "array([1, 5, 9])"
      ]
     },
     "execution_count": 40,
     "metadata": {},
     "output_type": "execute_result"
    }
   ],
   "source": [
    "#all the elements of second column in a row\n",
    "arr[:,1]"
   ]
  },
  {
   "cell_type": "code",
   "execution_count": 41,
   "id": "cc9f8b3d",
   "metadata": {},
   "outputs": [
    {
     "data": {
      "text/plain": [
       "array([[1],\n",
       "       [5],\n",
       "       [9]])"
      ]
     },
     "execution_count": 41,
     "metadata": {},
     "output_type": "execute_result"
    }
   ],
   "source": [
    "#all the elements of second column in a column format\n",
    "arr[:,1].reshape(3,1)"
   ]
  },
  {
   "cell_type": "code",
   "execution_count": 42,
   "id": "e3844ef4",
   "metadata": {},
   "outputs": [
    {
     "data": {
      "text/plain": [
       "array([[ 6,  7],\n",
       "       [10, 11]])"
      ]
     },
     "execution_count": 42,
     "metadata": {},
     "output_type": "execute_result"
    }
   ],
   "source": [
    "#slicing on both axis\n",
    "arr[1:, 2:]"
   ]
  },
  {
   "cell_type": "code",
   "execution_count": 43,
   "id": "1bd82eef",
   "metadata": {},
   "outputs": [
    {
     "data": {
      "text/plain": [
       "array([[0, 1, 2, 3],\n",
       "       [4, 5, 7, 7],\n",
       "       [8, 9, 7, 7]])"
      ]
     },
     "execution_count": 43,
     "metadata": {},
     "output_type": "execute_result"
    }
   ],
   "source": [
    "#scalar to the matrix\n",
    "arr[1:, 2:] = 7\n",
    "arr"
   ]
  },
  {
   "cell_type": "markdown",
   "id": "13dee65e",
   "metadata": {},
   "source": [
    "# Boolean Indexing"
   ]
  },
  {
   "cell_type": "code",
   "execution_count": 45,
   "id": "abfd4ee1",
   "metadata": {},
   "outputs": [
    {
     "data": {
      "text/plain": [
       "array([0, 1, 2])"
      ]
     },
     "execution_count": 45,
     "metadata": {},
     "output_type": "execute_result"
    }
   ],
   "source": [
    "arr=np.arange(3)\n",
    "arr"
   ]
  },
  {
   "cell_type": "code",
   "execution_count": 46,
   "id": "21910e64",
   "metadata": {},
   "outputs": [
    {
     "data": {
      "text/plain": [
       "array([0, 2])"
      ]
     },
     "execution_count": 46,
     "metadata": {},
     "output_type": "execute_result"
    }
   ],
   "source": [
    "arr[np.array([True, False, True])]"
   ]
  },
  {
   "cell_type": "code",
   "execution_count": 47,
   "id": "778130c6",
   "metadata": {},
   "outputs": [
    {
     "data": {
      "text/plain": [
       "array([False,  True,  True])"
      ]
     },
     "execution_count": 47,
     "metadata": {},
     "output_type": "execute_result"
    }
   ],
   "source": [
    "arr >= 1"
   ]
  },
  {
   "cell_type": "code",
   "execution_count": 48,
   "id": "6675a80f",
   "metadata": {},
   "outputs": [
    {
     "data": {
      "text/plain": [
       "array([1, 2])"
      ]
     },
     "execution_count": 48,
     "metadata": {},
     "output_type": "execute_result"
    }
   ],
   "source": [
    "arr[arr>=1]"
   ]
  },
  {
   "cell_type": "code",
   "execution_count": 49,
   "id": "a791b693",
   "metadata": {},
   "outputs": [
    {
     "data": {
      "text/plain": [
       "array([0, 1, 2, 3, 4, 5, 6, 7, 8, 9])"
      ]
     },
     "execution_count": 49,
     "metadata": {},
     "output_type": "execute_result"
    }
   ],
   "source": [
    "arr = np.arange(10)\n",
    "arr"
   ]
  },
  {
   "cell_type": "code",
   "execution_count": 50,
   "id": "8930a6df",
   "metadata": {},
   "outputs": [
    {
     "data": {
      "text/plain": [
       "array([3, 4, 5, 6])"
      ]
     },
     "execution_count": 50,
     "metadata": {},
     "output_type": "execute_result"
    }
   ],
   "source": [
    "arr[(arr>2) & (arr<7)]"
   ]
  },
  {
   "cell_type": "code",
   "execution_count": 51,
   "id": "a138cdc5",
   "metadata": {},
   "outputs": [
    {
     "data": {
      "text/plain": [
       "array([0, 1, 8, 9])"
      ]
     },
     "execution_count": 51,
     "metadata": {},
     "output_type": "execute_result"
    }
   ],
   "source": [
    "arr[(arr>7) | (arr<2)]"
   ]
  },
  {
   "cell_type": "code",
   "execution_count": 52,
   "id": "6cbc84e9",
   "metadata": {},
   "outputs": [
    {
     "data": {
      "text/plain": [
       "array([0, 1, 2, 3, 4, 5, 6, 7])"
      ]
     },
     "execution_count": 52,
     "metadata": {},
     "output_type": "execute_result"
    }
   ],
   "source": [
    "arr[~(arr>7)]"
   ]
  },
  {
   "cell_type": "code",
   "execution_count": 78,
   "id": "a7c07f42",
   "metadata": {},
   "outputs": [
    {
     "data": {
      "text/plain": [
       "array([[0.69922338, 0.40915781, 0.55265502, 0.48237618, 0.52942924],\n",
       "       [0.69387764, 0.45869699, 0.69829126, 0.86084492, 0.11889479],\n",
       "       [0.64021762, 0.18262598, 0.81924447, 0.1779294 , 0.63896169],\n",
       "       [0.78376843, 0.02442437, 0.88730158, 0.90533609, 0.83889532],\n",
       "       [0.0856723 , 0.41335412, 0.92594261, 0.97030237, 0.52436029]])"
      ]
     },
     "execution_count": 78,
     "metadata": {},
     "output_type": "execute_result"
    }
   ],
   "source": [
    "mat = np.random.rand(5,5)\n",
    "mat"
   ]
  },
  {
   "cell_type": "code",
   "execution_count": 79,
   "id": "4f54de39",
   "metadata": {},
   "outputs": [
    {
     "data": {
      "text/plain": [
       "array([0.11889479, 0.02442437, 0.0856723 ])"
      ]
     },
     "execution_count": 79,
     "metadata": {},
     "output_type": "execute_result"
    }
   ],
   "source": [
    "mat[np.abs(mat-mat.mean()) > 1.5*mat.std()]"
   ]
  },
  {
   "cell_type": "code",
   "execution_count": 80,
   "id": "e24e9753",
   "metadata": {},
   "outputs": [
    {
     "data": {
      "text/plain": [
       "array([[0.12635203, 0.16371354, 0.02021633, 0.09049518, 0.04344211],\n",
       "       [0.12100628, 0.11417437, 0.12541991, 0.28797357, 0.45397657],\n",
       "       [0.06734627, 0.39024537, 0.24637311, 0.39494195, 0.06609034],\n",
       "       [0.21089708, 0.54844698, 0.31443022, 0.33246473, 0.26602396],\n",
       "       [0.48719906, 0.15951723, 0.35307125, 0.39743101, 0.04851107]])"
      ]
     },
     "execution_count": 80,
     "metadata": {},
     "output_type": "execute_result"
    }
   ],
   "source": [
    "#difference of each element from the mean\n",
    "np.abs(mat-mat.mean())"
   ]
  },
  {
   "cell_type": "code",
   "execution_count": 81,
   "id": "054877e2",
   "metadata": {},
   "outputs": [
    {
     "data": {
      "text/plain": [
       "array([[False, False, False, False, False],\n",
       "       [False, False, False, False,  True],\n",
       "       [False, False, False, False, False],\n",
       "       [False,  True, False, False, False],\n",
       "       [ True, False, False, False, False]])"
      ]
     },
     "execution_count": 81,
     "metadata": {},
     "output_type": "execute_result"
    }
   ],
   "source": [
    "#elements where greater than 1.5 times of std()\n",
    "np.abs(mat-mat.mean()) > 1.5*mat.std()"
   ]
  },
  {
   "cell_type": "code",
   "execution_count": 82,
   "id": "f849e3b3",
   "metadata": {},
   "outputs": [
    {
     "data": {
      "text/plain": [
       "array([0.11889479, 0.02442437, 0.0856723 ])"
      ]
     },
     "execution_count": 82,
     "metadata": {},
     "output_type": "execute_result"
    }
   ],
   "source": [
    "mat[np.abs(mat-mat.mean()) > 1.5*mat.std()]"
   ]
  },
  {
   "cell_type": "code",
   "execution_count": 83,
   "id": "939bbe4c",
   "metadata": {},
   "outputs": [],
   "source": [
    "#these outliers can be normalized to the mean.\n",
    "mat[np.abs(mat-mat.mean()) > 1.5*mat.std()] = mat.mean()"
   ]
  },
  {
   "cell_type": "markdown",
   "id": "06708cb5",
   "metadata": {},
   "source": [
    "# Understand broadcasting"
   ]
  },
  {
   "cell_type": "code",
   "execution_count": 85,
   "id": "77e998cf",
   "metadata": {},
   "outputs": [
    {
     "data": {
      "text/plain": [
       "array([0, 1, 2])"
      ]
     },
     "execution_count": 85,
     "metadata": {},
     "output_type": "execute_result"
    }
   ],
   "source": [
    "arr=np.arange(3)\n",
    "arr"
   ]
  },
  {
   "cell_type": "code",
   "execution_count": 89,
   "id": "d5f50699",
   "metadata": {},
   "outputs": [
    {
     "data": {
      "text/plain": [
       "array([4, 5, 6])"
      ]
     },
     "execution_count": 89,
     "metadata": {},
     "output_type": "execute_result"
    }
   ],
   "source": [
    "#adding array to scalar\n",
    "arr+4"
   ]
  },
  {
   "cell_type": "code",
   "execution_count": 90,
   "id": "0f470d9e",
   "metadata": {},
   "outputs": [
    {
     "data": {
      "text/plain": [
       "array([0.        , 0.14285714, 0.28571429])"
      ]
     },
     "execution_count": 90,
     "metadata": {},
     "output_type": "execute_result"
    }
   ],
   "source": [
    "arr/7"
   ]
  },
  {
   "cell_type": "code",
   "execution_count": 91,
   "id": "e7051b7b",
   "metadata": {},
   "outputs": [
    {
     "data": {
      "text/plain": [
       "array([0, 1, 4], dtype=int32)"
      ]
     },
     "execution_count": 91,
     "metadata": {},
     "output_type": "execute_result"
    }
   ],
   "source": [
    "arr**2"
   ]
  },
  {
   "cell_type": "code",
   "execution_count": 93,
   "id": "f0340fa8",
   "metadata": {},
   "outputs": [
    {
     "data": {
      "text/plain": [
       "array([[0, 1, 2],\n",
       "       [3, 4, 5],\n",
       "       [6, 7, 8]])"
      ]
     },
     "execution_count": 93,
     "metadata": {},
     "output_type": "execute_result"
    }
   ],
   "source": [
    "#creating 3*3 matrix\n",
    "mat=np.arange(9).reshape(3,3)\n",
    "mat"
   ]
  },
  {
   "cell_type": "code",
   "execution_count": 95,
   "id": "d3b95fdf",
   "metadata": {},
   "outputs": [
    {
     "data": {
      "text/plain": [
       "array([0, 1, 2])"
      ]
     },
     "execution_count": 95,
     "metadata": {},
     "output_type": "execute_result"
    }
   ],
   "source": [
    "#creating 1*3 matrix\n",
    "vec=np.arange(3)\n",
    "vec"
   ]
  },
  {
   "cell_type": "code",
   "execution_count": 97,
   "id": "5c04d795",
   "metadata": {},
   "outputs": [
    {
     "data": {
      "text/plain": [
       "array([[ 0,  2,  4],\n",
       "       [ 3,  5,  7],\n",
       "       [ 6,  8, 10]])"
      ]
     },
     "execution_count": 97,
     "metadata": {},
     "output_type": "execute_result"
    }
   ],
   "source": [
    "#adding matrix to a vector\n",
    "mat + vec"
   ]
  },
  {
   "cell_type": "code",
   "execution_count": 100,
   "id": "cb1a707a",
   "metadata": {},
   "outputs": [
    {
     "data": {
      "text/plain": [
       "array([0, 1, 2])"
      ]
     },
     "execution_count": 100,
     "metadata": {},
     "output_type": "execute_result"
    }
   ],
   "source": [
    "#creating vector of 1 row and 3 columns\n",
    "v1=np.arange(3)\n",
    "v1"
   ]
  },
  {
   "cell_type": "code",
   "execution_count": 101,
   "id": "1fc5c605",
   "metadata": {},
   "outputs": [
    {
     "data": {
      "text/plain": [
       "array([[0],\n",
       "       [1],\n",
       "       [2]])"
      ]
     },
     "execution_count": 101,
     "metadata": {},
     "output_type": "execute_result"
    }
   ],
   "source": [
    "#creating vector of 3 row and 1 columns\n",
    "v2=np.arange(3).reshape(3,1)\n",
    "v2"
   ]
  },
  {
   "cell_type": "code",
   "execution_count": 103,
   "id": "48ed019f",
   "metadata": {},
   "outputs": [
    {
     "data": {
      "text/plain": [
       "array([[0, 1, 2],\n",
       "       [1, 2, 3],\n",
       "       [2, 3, 4]])"
      ]
     },
     "execution_count": 103,
     "metadata": {},
     "output_type": "execute_result"
    }
   ],
   "source": [
    "#adding above two vectors\n",
    "v1+v2"
   ]
  },
  {
   "cell_type": "code",
   "execution_count": 104,
   "id": "33fdb79b",
   "metadata": {},
   "outputs": [
    {
     "ename": "ValueError",
     "evalue": "operands could not be broadcast together with shapes (3,) (4,) ",
     "output_type": "error",
     "traceback": [
      "\u001b[1;31m---------------------------------------------------------------------------\u001b[0m",
      "\u001b[1;31mValueError\u001b[0m                                Traceback (most recent call last)",
      "\u001b[1;32m<ipython-input-104-fb27528f727a>\u001b[0m in \u001b[0;36m<module>\u001b[1;34m\u001b[0m\n\u001b[1;32m----> 1\u001b[1;33m \u001b[0mnp\u001b[0m\u001b[1;33m.\u001b[0m\u001b[0marange\u001b[0m\u001b[1;33m(\u001b[0m\u001b[1;36m3\u001b[0m\u001b[1;33m)\u001b[0m \u001b[1;33m+\u001b[0m \u001b[0mnp\u001b[0m\u001b[1;33m.\u001b[0m\u001b[0marange\u001b[0m\u001b[1;33m(\u001b[0m\u001b[1;36m4\u001b[0m\u001b[1;33m)\u001b[0m\u001b[1;33m\u001b[0m\u001b[1;33m\u001b[0m\u001b[0m\n\u001b[0m",
      "\u001b[1;31mValueError\u001b[0m: operands could not be broadcast together with shapes (3,) (4,) "
     ]
    }
   ],
   "source": [
    "np.arange(3) + np.arange(4)"
   ]
  }
 ],
 "metadata": {
  "kernelspec": {
   "display_name": "Python 3",
   "language": "python",
   "name": "python3"
  },
  "language_info": {
   "codemirror_mode": {
    "name": "ipython",
    "version": 3
   },
   "file_extension": ".py",
   "mimetype": "text/x-python",
   "name": "python",
   "nbconvert_exporter": "python",
   "pygments_lexer": "ipython3",
   "version": "3.8.8"
  }
 },
 "nbformat": 4,
 "nbformat_minor": 5
}
