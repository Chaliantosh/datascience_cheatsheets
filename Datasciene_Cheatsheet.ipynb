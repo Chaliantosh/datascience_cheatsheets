{
 "cells": [
  {
   "cell_type": "code",
   "execution_count": 45,
   "id": "8e2dc20b",
   "metadata": {},
   "outputs": [
    {
     "data": {
      "text/plain": [
       "'\\nSelecting or retrieving data: Index can be written in two forms:\\n1. Label Index\\n2. Integer Index\\n'"
      ]
     },
     "execution_count": 45,
     "metadata": {},
     "output_type": "execute_result"
    }
   ],
   "source": [
    "\"\"\"\n",
    "Selecting or retrieving data: Index can be written in two forms:\n",
    "1. Label Index\n",
    "2. Integer Index\n",
    "\"\"\""
   ]
  },
  {
   "cell_type": "code",
   "execution_count": null,
   "id": "60b6f961",
   "metadata": {},
   "outputs": [],
   "source": [
    "\"\"\"\n",
    "EDA: Exploratory Data Analysis is an approach to aalyzing datasets to summarize their main characteristic.\n",
    "\n",
    "When conducting EDA\n",
    "    > Avoid making assumptions\n",
    "    > Examine data types\n",
    "    > Examine key properties\n",
    "    \n",
    "Tabular data has three major statistical data types.\n",
    "    > Nominal Data: Data with no inherent order. Examples include Political party (like Democrats, Republican & Independent)\n",
    "      Computer OS (windows, Macos, Linux), Gender and Languages spoken\n",
    "    > Oridnal Data: Data with ordered categories. Examples include Clothing Size (small, medium, large, extra large), \n",
    "      level of education (high school, undergrad, masters & phd), yelp rating.\n",
    "    > Numerical Data: Data that consists of amounts or quantities. Examples include height, weight, price, distance & \n",
    "      blood pressure.\n",
    "      \n",
    "Key properties:\n",
    "    > Granularity: \n",
    "        1. What does each record in your data represent?\n",
    "        2. How fine or coarse is the data?\n",
    "    > Scope: coverage of the data\n",
    "        1. what does the data describe?\n",
    "        2. Does the data cover the topic you're interested in?\n",
    "    > Temporality: how to data is situated in time\n",
    "        1. When was the data collected?\n",
    "    > Faithfullness:\n",
    "        1. How accurately does this data describe the real world?\n",
    "        2. Should you trust this data?\n",
    "\"\"\""
   ]
  },
  {
   "cell_type": "code",
   "execution_count": 52,
   "id": "31f9a918",
   "metadata": {},
   "outputs": [
    {
     "data": {
      "text/plain": [
       "'\\nStatistical Plots Allow Viewers to:\\n1. Identify Outliers\\n2. Visualize distributions\\n3. Deduce variable types\\n4. Discover relationships and core relaions between variables in a dataset\\n'"
      ]
     },
     "execution_count": 52,
     "metadata": {},
     "output_type": "execute_result"
    }
   ],
   "source": [
    "\"\"\"\n",
    "Statistical Plots Allow Viewers to:\n",
    "1. Identify Outliers\n",
    "2. Visualize distributions\n",
    "3. Deduce variable types\n",
    "4. Discover relationships and core relaions between variables in a dataset\n",
    "\"\"\""
   ]
  },
  {
   "cell_type": "code",
   "execution_count": 1,
   "id": "ef1709fd",
   "metadata": {},
   "outputs": [
    {
     "data": {
      "text/plain": [
       "\"\\n1. Histograms: shows a variable's distribution as a set of adjacent rectangles on a data chart. Histograms represent counts of\\n               data within a numerical range of values.\\n2. Scatterplots: are useful when you want to explore interrelations or dependencies between two different variables. These\\n                 data graphics are ideal for visually spotting outliers and trends in data.\\n3. Scatterplot Matrices: use a matrix of scaterplots to visually display correlations between two or more variables.\\n4. Boxplots: are useful for seeing a variable's spread, and for detecting outliers.\\n\""
      ]
     },
     "execution_count": 1,
     "metadata": {},
     "output_type": "execute_result"
    }
   ],
   "source": [
    "\"\"\"\n",
    "1. Histograms: shows a variable's distribution as a set of adjacent rectangles on a data chart. Histograms represent counts of\n",
    "               data within a numerical range of values.\n",
    "2. Scatterplots: are useful when you want to explore interrelations or dependencies between two different variables. These\n",
    "                 data graphics are ideal for visually spotting outliers and trends in data.\n",
    "3. Scatterplot Matrices: use a matrix of scaterplots to visually display correlations between two or more variables.\n",
    "4. Boxplots: are useful for seeing a variable's spread, and for detecting outliers.\n",
    "\"\"\""
   ]
  },
  {
   "cell_type": "code",
   "execution_count": 15,
   "id": "0e749e9e",
   "metadata": {},
   "outputs": [
    {
     "data": {
      "text/plain": [
       "'\\nDescribe Statistics: provide quantitative summary of variable and data that comprise it.\\n1. Descriptive Statistics that descibe the values of observations in a variable.\\n    > Sum\\n    > Median\\n    > Mean\\n    > Max\\n2. Descriptive statistics that describe variable spread.\\n    > Standard deviation\\n    > Variance\\n    > Counts\\n    > Quartiles\\n    \\nUses of descriptive statistics:\\n    > Detecting Outliers\\n    > Planning data preparation requirements for machine learning\\n    > Selecting features for use in machine learning\\n'"
      ]
     },
     "execution_count": 15,
     "metadata": {},
     "output_type": "execute_result"
    }
   ],
   "source": [
    "\"\"\"\n",
    "Describe Statistics: provide quantitative summary of variable and data that comprise it.\n",
    "1. Descriptive Statistics that descibe the values of observations in a variable.\n",
    "    > Sum\n",
    "    > Median\n",
    "    > Mean\n",
    "    > Max\n",
    "2. Descriptive statistics that describe variable spread.\n",
    "    > Standard deviation\n",
    "    > Variance\n",
    "    > Counts\n",
    "    > Quartiles\n",
    "    \n",
    "Uses of descriptive statistics:\n",
    "    > Detecting Outliers\n",
    "    > Planning data preparation requirements for machine learning\n",
    "    > Selecting features for use in machine learning\n",
    "\"\"\""
   ]
  },
  {
   "cell_type": "code",
   "execution_count": 16,
   "id": "bcd7dbb9",
   "metadata": {},
   "outputs": [
    {
     "data": {
      "text/plain": [
       "'\\nCreating a crosstab:\\n    > A cross tabluation of two (or more) features.\\n    > By default, a crosstab table shows frequency counts for features.\\n'"
      ]
     },
     "execution_count": 16,
     "metadata": {},
     "output_type": "execute_result"
    }
   ],
   "source": [
    "\"\"\"\n",
    "Creating a crosstab:\n",
    "    > A cross tabluation of two (or more) features.\n",
    "    > By default, a crosstab table shows frequency counts for features.\n",
    "\"\"\""
   ]
  },
  {
   "cell_type": "code",
   "execution_count": 19,
   "id": "dab5f5fe",
   "metadata": {},
   "outputs": [
    {
     "data": {
      "text/plain": [
       "'\\nParametric Correlation Analysis:\\nA method you can use to fnd correlation between linearly releated continuous numeric variables.\\n\\nPearson Correlation Coefficiet:\\nR = 1 --> Strong positive relationship\\nR = 2 --> Not linearly correlated\\nR = 3 --> Strong negative relationship\\n\\nassumption:\\n    > data is normally distributed,\\n    > continuous, numeric variables\\n    > variables are linearly related\\n    \\nUse Pearson Correlation\\n    > to uncover (linear) relationships between variables\\n    > not to rule out possible (nonlinear) relationships between variables\\n    \\nWhether these feaures are independent of each other or exhibit a degree of correlation\\n'"
      ]
     },
     "execution_count": 19,
     "metadata": {},
     "output_type": "execute_result"
    }
   ],
   "source": [
    "\"\"\"\n",
    "Parametric Correlation Analysis:\n",
    "A method you can use to fnd correlation between linearly releated continuous numeric variables.\n",
    "\n",
    "Pearson Correlation Coefficiet: it establishes variable pairs meets the requirement of more advanced models.\n",
    "R = 1 --> Strong positive relationship\n",
    "R = 2 --> Not linearly correlated\n",
    "R = 3 --> Strong negative relationship\n",
    "\n",
    "assumption:\n",
    "    > data is normally distributed,\n",
    "    > continuous, numeric variables\n",
    "    > variables are linearly related\n",
    "    \n",
    "Use Pearson Correlation\n",
    "    > to uncover (linear) relationships between variables\n",
    "    > not to rule out possible (nonlinear) relationships between variables\n",
    "    \n",
    "Whether these feaures are independent of each other or exhibit a degree of correlation\n",
    "\"\"\""
   ]
  },
  {
   "cell_type": "code",
   "execution_count": 20,
   "id": "189099de",
   "metadata": {},
   "outputs": [
    {
     "data": {
      "text/plain": [
       "\"\\nNonparametric Correlation analysis:\\nused to find correlation between categorical, nonlinearly related, non-normally distributed variables.\\n    > Spearman's rank correlation: \\n        1. Finds the R correlatio between variable-pairs of ordinal data type. Oridinal variable\\n           is a numeric variable that is able to be characterized.\\n        2. Variable-pairs are then able to be ranked according to the strength of the correlation between them.\\n        \\n    > Spearman's Correlation Coefficient\\n        R = 1 --> Strong positive relationship\\n        R = 2 --> Not linearly correlated\\n        R = 3 --> Strong negative relationship\\n        \\n    > Assumptions\\n        1. Your variables are ordinal; numeric, but able to be ranked like a categorical variable.\\n        2. Your variables are related nonlinearly.\\n        3. Your data is non-normally distributed.\\n            \\n    > Chi-square tables: Chi-Square Test for Indeoendence\\n        1. p<0.05 --> Reject null hypothesis and conclude that the variables are correlated.\\n        2. p>0.05 --> accept null hypothesis and conclude that the variables are independent.\\n        \\n    > Assumptions\\n        1. Your variable are categorical or numeric\\n        2. You have binned the numeric variables\\n\""
      ]
     },
     "execution_count": 20,
     "metadata": {},
     "output_type": "execute_result"
    }
   ],
   "source": [
    "\"\"\"\n",
    "Nonparametric Correlation analysis:\n",
    "used to find correlation between categorical, nonlinearly related, non-normally distributed variables.\n",
    "    > Spearman's rank correlation: \n",
    "        1. Finds the R correlation between variable-pairs of ordinal data type. Oridinal variable\n",
    "           is a numeric variable that is able to be characterized.\n",
    "        2. Variable-pairs are then able to be ranked according to the strength of the correlation between them.\n",
    "        \n",
    "    > Spearman's Correlation Coefficient\n",
    "        R = 1 --> Strong positive relationship\n",
    "        R = 2 --> Not linearly correlated\n",
    "        R = 3 --> Strong negative relationship\n",
    "        \n",
    "    > Assumptions\n",
    "        1. Your variables are ordinal; numeric, but able to be ranked like a categorical variable.\n",
    "        2. Your variables are related nonlinearly.\n",
    "        3. Your data is non-normally distributed.\n",
    "            \n",
    "    > Chi-square tables: Chi-Square Test for Independence, p refers to placeholder\n",
    "        1. p<0.05 --> Reject null hypothesis and conclude that the variables are correlated.\n",
    "        2. p>0.05 --> accept null hypothesis and conclude that the variables are independent.\n",
    "        \n",
    "    > Assumptions\n",
    "        1. Your variable are categorical or numeric\n",
    "        2. You have binned the numeric variables. Binning is breaking of numeric values into groups.\n",
    "\"\"\""
   ]
  },
  {
   "cell_type": "code",
   "execution_count": null,
   "id": "5255d556",
   "metadata": {},
   "outputs": [],
   "source": [
    "\"\"\"\n",
    "Scaling and Transforming: Why is important to scale your data.\n",
    "    > So that differing magnitude among variables do not produce erroneouse or misleading statistics.\n",
    "    > To prepare your data for machine learning.\n",
    "    \n",
    "Two ways to scale your data.\n",
    "    > Normalize: putting each observation on a relative scale between the values of 0 and 1.\n",
    "                   Value of observation\n",
    "            -----------------------------------\n",
    "            Sum of all observations in variable\n",
    "    > Standarize: rescaling data so that it has a zero mean and unit variance.\n",
    "    \n",
    "Use scikit-learn preprocessing for:\n",
    "    > scaling data\n",
    "    > centering data\n",
    "    > normalizing data\n",
    "    > binning data\n",
    "    > imputing data\n",
    "\"\"\""
   ]
  },
  {
   "cell_type": "code",
   "execution_count": null,
   "id": "297806a3",
   "metadata": {},
   "outputs": [],
   "source": [
    "\"\"\"\n",
    "Outlier Detection:\n",
    "    > most machine learning methods assume that your data has been treated for outliers\n",
    "    > detecting outliers can be a data preprocessing task or an analytical method of its own merit.\n",
    "    \n",
    "Outlier Analysis use cases:Use outlier detection to uncover anamolies that represent:\n",
    "    > Equipment failure\n",
    "    > Fraud\n",
    "    > Cyersecurity Event\n",
    "    \n",
    "Univariate Method: Turkey Boxplots\n",
    "    > Boxplot whiskers are set at 1.5(IQR - Interquartile Range)\n",
    "    > If you see data points past these whiskers, they're outliers.\n",
    "\n",
    "Univariate Method: Turkey Outlier Labeling\n",
    "    > a=Q1 - 1.5(IQR)\n",
    "    > b=Q3 + 1.5(IQR)\n",
    "    If..\n",
    "    min value < a, or\n",
    "    max value > b, then ....\n",
    "    the variable is suspect for outliers\n",
    "\"\"\""
   ]
  }
 ],
 "metadata": {
  "kernelspec": {
   "display_name": "Python 3",
   "language": "python",
   "name": "python3"
  },
  "language_info": {
   "codemirror_mode": {
    "name": "ipython",
    "version": 3
   },
   "file_extension": ".py",
   "mimetype": "text/x-python",
   "name": "python",
   "nbconvert_exporter": "python",
   "pygments_lexer": "ipython3",
   "version": "3.8.8"
  }
 },
 "nbformat": 4,
 "nbformat_minor": 5
}
