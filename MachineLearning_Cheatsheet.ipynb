{
 "cells": [
  {
   "cell_type": "code",
   "execution_count": null,
   "id": "3adef4eb",
   "metadata": {},
   "outputs": [],
   "source": [
    "\"\"\"\n",
    "Machine Learning is the science of teaching machines how to learn themselves. For e.g. smartphones detecting faces while\n",
    "taking photos or unlocking themselves; facebook, linkedin or any social media site recommending your friends and ads you \n",
    "might be interested in; amazon recommending you the products based on your browsing history; banks use machine learning to\n",
    "detect fraud transactions in real time.\n",
    "\n",
    "Types of Machine Learning:\n",
    "    1. Supervised Learning: \n",
    "        > Well defined goals\n",
    "        > Reverse Engineering\n",
    "        > e.g.: fraud/non-fraud transactions, inventory management\n",
    "        \n",
    "    2. Unsupervised Learning:\n",
    "        > Outcome is based only on inputs\n",
    "        > Outcome - typically clustering or segmentation\n",
    "        \n",
    "    3. Reinforcement Learning: \n",
    "        > Start state and end states are defined\n",
    "        > agent discovers the path & the relationships on its own\n",
    "\"\"\""
   ]
  },
  {
   "cell_type": "code",
   "execution_count": null,
   "id": "1ccf51d8",
   "metadata": {},
   "outputs": [],
   "source": [
    "\"\"\"\n",
    "Supervised machine learning techniques involve training a model to operate on a set of features and predict a label using a \n",
    "dataset that includes some already-known label values. The training process fits the features to the known labels to define \n",
    "a general function that can be applied to new features for which the labels are unknown, and predict them. You can think of \n",
    "this function like this, in which y represents the label we want to predict and x represents the features the model uses to \n",
    "predict it.\n",
    "\n",
    "y=f([x1,x2,x3,...])\n",
    "\n",
    "The goal of training the model is to find a function that performs some kind of calculation to the x values that produces \n",
    "the result y. We do this by applying a machine learning algorithm that tries to fit the x values to a calculation that \n",
    "produces y reasonably accurately for all of the cases in the training dataset.\n",
    "\n",
    "There are lots of machine learning algorithms for supervised learning, and they can be broadly divided into two types:\n",
    "\n",
    "Regression algorithms: Algorithms that predict a y value that is a numeric value, such as the price of a house or the number \n",
    "of sales transactions.\n",
    "Classification algorithms: Algorithms that predict to which category, or class, an observation belongs. The y value in a \n",
    "classification model is a vector of probability values between 0 and 1, one for each class, indicating the probability of \n",
    "the observation belonging to each class.\n",
    "\n",
    "\"\"\""
   ]
  },
  {
   "cell_type": "code",
   "execution_count": null,
   "id": "7b258605",
   "metadata": {},
   "outputs": [],
   "source": [
    "\"\"\"\n",
    "Exploring Data: \n",
    "The first step in any machine learning project is to explore the data that you will use to train a model. The goal of this \n",
    "exploration is to try to understand the relationships between its attributes; in particular, any apparent correlation \n",
    "between the features and the label your model will try to predict. \n",
    "This may require some work \n",
    "1. Imputation Techniques: to detect and fix issues in the data (such as dealing with missing values, errors, or \n",
    "   outlier values), \n",
    "2. Feature Engineering: deriving new feature columns by transforming or combining existing features \n",
    "   (a process known as feature engineering), \n",
    "3. normalizing numeric features (values you can measure or count) so they're on a similar scale, \n",
    "4. encoding categorical features (values that represent discrete categories) as numeric indicators.\n",
    "\"\"\""
   ]
  },
  {
   "cell_type": "code",
   "execution_count": null,
   "id": "f57a0453",
   "metadata": {},
   "outputs": [],
   "source": [
    "\"\"\"\n",
    "We could train a model using all of the data; but it's common practice in supervised learning to split the data into two \n",
    "subsets; a (typically larger) set with which to train the model, and a smaller \"hold-back\" set with which to validate the \n",
    "trained model. This enables us to evaluate how well the model performs when used with the validation dataset by comparing \n",
    "the predicted labels to the known labels. It's important to split the data randomly (rather than say, taking the first 70% \n",
    "of the data for training and keeping the rest for validation). This helps ensure that the two subsets of data are \n",
    "statistically comparable (so we validate the model with data that has a similar statistical distribution to the data on \n",
    "which it was trained).\n",
    "\n",
    "To randomly split the data, we'll use the train_test_split function in the scikit-learn library. This library is one of \n",
    "the most widely used machine learning packages for Python.\n",
    "\n",
    "Now we have the following four datasets:\n",
    "\n",
    "X_train: The feature values we'll use to train the model\n",
    "y_train: The corresponding labels we'll use to train the model\n",
    "X_test: The feature values we'll use to validate the model\n",
    "y_test: The corresponding labels we'll use to validate the model\n",
    "\n",
    "Now we're ready to train a model by fitting a suitable regression algorithm to the training data. We'll use a linear \n",
    "regression algorithm, a common starting point for regression that works by trying to find a linear relationship between the \n",
    "X values and the y label. The resulting model is a function that conceptually defines a line where every possible \n",
    "X and y value combination intersect.\n",
    "\n",
    "In Scikit-Learn, training algorithms are encapsulated in estimators, and in this case we'll use the LinearRegression \n",
    "estimator to train a linear regression model.\n",
    "\n",
    "Evaluate the Trained Model:\n",
    "Now that we've trained the model, we can use it to predict rental counts for the features we held back in our validation \n",
    "dataset. Then we can compare these predictions to the actual label values to evaluate how well (or not!) the model is \n",
    "working.\n",
    "\"\"\""
   ]
  }
 ],
 "metadata": {
  "kernelspec": {
   "display_name": "Python 3",
   "language": "python",
   "name": "python3"
  },
  "language_info": {
   "codemirror_mode": {
    "name": "ipython",
    "version": 3
   },
   "file_extension": ".py",
   "mimetype": "text/x-python",
   "name": "python",
   "nbconvert_exporter": "python",
   "pygments_lexer": "ipython3",
   "version": "3.8.8"
  }
 },
 "nbformat": 4,
 "nbformat_minor": 5
}
